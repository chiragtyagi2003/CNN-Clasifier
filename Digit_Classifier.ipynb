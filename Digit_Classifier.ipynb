{
  "nbformat": 4,
  "nbformat_minor": 0,
  "metadata": {
    "colab": {
      "provenance": [],
      "authorship_tag": "ABX9TyMcw8Ftlu3oPpejLVTneMdm",
      "include_colab_link": true
    },
    "kernelspec": {
      "name": "python3",
      "display_name": "Python 3"
    },
    "language_info": {
      "name": "python"
    }
  },
  "cells": [
    {
      "cell_type": "markdown",
      "metadata": {
        "id": "view-in-github",
        "colab_type": "text"
      },
      "source": [
        "<a href=\"https://colab.research.google.com/github/chiragtyagi2003/CNN-Clasifier/blob/main/Digit_Classifier.ipynb\" target=\"_parent\"><img src=\"https://colab.research.google.com/assets/colab-badge.svg\" alt=\"Open In Colab\"/></a>"
      ]
    },
    {
      "cell_type": "code",
      "execution_count": null,
      "metadata": {
        "id": "kGgyTX80ZwIx"
      },
      "outputs": [],
      "source": []
    },
    {
      "cell_type": "markdown",
      "source": [
        "Dependencies"
      ],
      "metadata": {
        "id": "qD6dKjY2aFOE"
      }
    },
    {
      "cell_type": "code",
      "source": [
        "# Import Tensorflow 2.0\n",
        "%tensorflow_version 2.x\n",
        "import tensorflow as tf\n",
        "\n",
        "!pip install mitdeeplearning\n",
        "import mitdeeplearning as mdl\n",
        "\n",
        "import matplotlib.pyplot as plt\n",
        "import numpy as np\n",
        "import random\n",
        "from tqdm import tqdm\n"
      ],
      "metadata": {
        "colab": {
          "base_uri": "https://localhost:8080/"
        },
        "id": "PuKrZjiIaGwO",
        "outputId": "3259c07c-6c9d-4d4c-8eec-f40d6c531951"
      },
      "execution_count": 1,
      "outputs": [
        {
          "output_type": "stream",
          "name": "stdout",
          "text": [
            "Colab only includes TensorFlow 2.x; %tensorflow_version has no effect.\n",
            "Looking in indexes: https://pypi.org/simple, https://us-python.pkg.dev/colab-wheels/public/simple/\n",
            "Collecting mitdeeplearning\n",
            "  Downloading mitdeeplearning-0.3.0.tar.gz (2.1 MB)\n",
            "\u001b[2K     \u001b[90m━━━━━━━━━━━━━━━━━━━━━━━━━━━━━━━━━━━━━━━━\u001b[0m \u001b[32m2.1/2.1 MB\u001b[0m \u001b[31m23.0 MB/s\u001b[0m eta \u001b[36m0:00:00\u001b[0m\n",
            "\u001b[?25h  Preparing metadata (setup.py) ... \u001b[?25l\u001b[?25hdone\n",
            "Requirement already satisfied: numpy in /usr/local/lib/python3.10/dist-packages (from mitdeeplearning) (1.22.4)\n",
            "Requirement already satisfied: regex in /usr/local/lib/python3.10/dist-packages (from mitdeeplearning) (2022.10.31)\n",
            "Requirement already satisfied: tqdm in /usr/local/lib/python3.10/dist-packages (from mitdeeplearning) (4.65.0)\n",
            "Requirement already satisfied: gym in /usr/local/lib/python3.10/dist-packages (from mitdeeplearning) (0.25.2)\n",
            "Requirement already satisfied: cloudpickle>=1.2.0 in /usr/local/lib/python3.10/dist-packages (from gym->mitdeeplearning) (2.2.1)\n",
            "Requirement already satisfied: gym-notices>=0.0.4 in /usr/local/lib/python3.10/dist-packages (from gym->mitdeeplearning) (0.0.8)\n",
            "Building wheels for collected packages: mitdeeplearning\n",
            "  Building wheel for mitdeeplearning (setup.py) ... \u001b[?25l\u001b[?25hdone\n",
            "  Created wheel for mitdeeplearning: filename=mitdeeplearning-0.3.0-py3-none-any.whl size=2117305 sha256=f4c2c740aa25c407ad84498c41f88dd3c6be128243964b3e96239b3f87a3f981\n",
            "  Stored in directory: /root/.cache/pip/wheels/9c/9f/b5/0e31f83bc60a83625e37429f923934e26802d0d68cf3ef3216\n",
            "Successfully built mitdeeplearning\n",
            "Installing collected packages: mitdeeplearning\n",
            "Successfully installed mitdeeplearning-0.3.0\n"
          ]
        }
      ]
    },
    {
      "cell_type": "markdown",
      "source": [
        "Downloading the dataset"
      ],
      "metadata": {
        "id": "scn9thT5aKFr"
      }
    },
    {
      "cell_type": "markdown",
      "source": [
        "Data PreProcessing"
      ],
      "metadata": {
        "id": "R9rJcy0Sacd_"
      }
    },
    {
      "cell_type": "code",
      "source": [
        "# train_images = (np.expand_dims(train_images, axis=-1)/255.).astype(np.float32)\n",
        "# train_labels = (train_labels).astype(np.int64)\n",
        "# test_images = (np.expand_dims(test_images, axis=-1)/255.).astype(np.float32)\n",
        "# test_labels - (test_labels).astype(np.int64)\n",
        "mnist = tf.keras.datasets.mnist\n",
        "\n",
        "(train_images, train_labels), (test_images, test_labels) = mnist.load_data()\n",
        "train_images = (np.expand_dims(train_images, axis=-1)/255.).astype(np.float32)\n",
        "train_labels = (train_labels).astype(np.int64)\n",
        "test_images = (np.expand_dims(test_images, axis=-1)/255.).astype(np.float32)\n",
        "test_labels = (test_labels).astype(np.int64)\n",
        "\n",
        "print(train_images[[0]].shape)\n"
      ],
      "metadata": {
        "colab": {
          "base_uri": "https://localhost:8080/"
        },
        "id": "bHXb6oSIaiP3",
        "outputId": "27c5bc84-7058-45b3-c670-00b07ac58daa"
      },
      "execution_count": 28,
      "outputs": [
        {
          "output_type": "stream",
          "name": "stdout",
          "text": [
            "(1, 28, 28, 1)\n"
          ]
        }
      ]
    },
    {
      "cell_type": "code",
      "source": [
        "# plotting some of the images\n",
        "plt.figure(figsize=(10,10))\n",
        "random_inds = np.random.choice(60000,36)\n",
        "for i in range(36):\n",
        "    plt.subplot(6,6,i+1)\n",
        "    plt.xticks([])\n",
        "    plt.yticks([])\n",
        "    plt.grid(False)\n",
        "    image_ind = random_inds[i]\n",
        "    plt.imshow(np.squeeze(train_images[image_ind]), cmap=plt.cm.binary)\n",
        "    plt.xlabel(train_labels[image_ind])"
      ],
      "metadata": {
        "colab": {
          "base_uri": "https://localhost:8080/",
          "height": 729
        },
        "id": "CNSX32-wcCr0",
        "outputId": "f999029e-a703-4305-b239-62197175bc08"
      },
      "execution_count": 5,
      "outputs": [
        {
          "output_type": "stream",
          "name": "stderr",
          "text": [
            "/usr/local/lib/python3.10/dist-packages/ipykernel/ipkernel.py:283: DeprecationWarning: `should_run_async` will not call `transform_cell` automatically in the future. Please pass the result to `transformed_cell` argument and any exception that happen during thetransform in `preprocessing_exc_tuple` in IPython 7.17 and above.\n",
            "  and should_run_async(code)\n"
          ]
        },
        {
          "output_type": "display_data",
          "data": {
            "text/plain": [
              "<Figure size 1000x1000 with 36 Axes>"
            ],
            "image/png": "[encoded data removed]"
          },
          "metadata": {}
        }
      ]
    },
    {
      "cell_type": "markdown",
      "source": [
        "Model 1 - simple Neural Network with two Dense layers"
      ],
      "metadata": {
        "id": "BPLMKl8gcVqO"
      }
    },
    {
      "cell_type": "code",
      "source": [
        "def build_first_model():\n",
        "  first_model = tf.keras.Sequential([\n",
        "\n",
        "    # layer1 => to flatten the images\n",
        "    # there are no learned params in this layer\n",
        "    # it only reformats the data\n",
        "    tf.keras.layers.Flatten(),\n",
        "\n",
        "    # layer2 => first dense layer\n",
        "    tf.keras.layers.Dense(units=128, activation = tf.nn.relu),\n",
        "\n",
        "    # layer3 => output layer\n",
        "    tf.keras.layers.Dense(units=10, activation=tf.nn.softmax)\n",
        "  ])\n",
        "\n",
        "  return first_model"
      ],
      "metadata": {
        "colab": {
          "base_uri": "https://localhost:8080/"
        },
        "id": "ElGo2Mafca7p",
        "outputId": "e89830b2-c56d-4331-b75b-9ece6dc800da"
      },
      "execution_count": 6,
      "outputs": [
        {
          "output_type": "stream",
          "name": "stderr",
          "text": [
            "/usr/local/lib/python3.10/dist-packages/ipykernel/ipkernel.py:283: DeprecationWarning: `should_run_async` will not call `transform_cell` automatically in the future. Please pass the result to `transformed_cell` argument and any exception that happen during thetransform in `preprocessing_exc_tuple` in IPython 7.17 and above.\n",
            "  and should_run_async(code)\n"
          ]
        }
      ]
    },
    {
      "cell_type": "code",
      "source": [
        "# building the first model\n",
        "model = build_first_model()\n"
      ],
      "metadata": {
        "id": "1BKQqv6KcCtZ"
      },
      "execution_count": 7,
      "outputs": []
    },
    {
      "cell_type": "markdown",
      "source": [
        "Compiling the model"
      ],
      "metadata": {
        "id": "VHQwzNUWfU6a"
      }
    },
    {
      "cell_type": "code",
      "source": [
        "model.compile(optimizer=tf.keras.optimizers.SGD(learning_rate=1e-1),\n",
        "                                                loss = 'sparse_categorical_crossentropy',\n",
        "                                                metrics = ['accuracy']\n",
        "                                                )"
      ],
      "metadata": {
        "id": "39l2RctffW-9"
      },
      "execution_count": 8,
      "outputs": []
    },
    {
      "cell_type": "markdown",
      "source": [],
      "metadata": {
        "id": "3CVXTOyOf71g"
      }
    },
    {
      "cell_type": "markdown",
      "source": [
        "Training the model"
      ],
      "metadata": {
        "id": "2reTean7f73i"
      }
    },
    {
      "cell_type": "code",
      "source": [
        "# hpyerparameters\n",
        "BATCH_SIZE = 64\n",
        "EPOCHS = 100\n",
        "\n",
        "model.fit(train_images, train_labels, batch_size = BATCH_SIZE, epochs = EPOCHS)"
      ],
      "metadata": {
        "colab": {
          "base_uri": "https://localhost:8080/"
        },
        "id": "7sy25g7Xf9Xn",
        "outputId": "67b2f82a-e2fe-43af-d4fe-a3e8ebc6936d"
      },
      "execution_count": 14,
      "outputs": [
        {
          "output_type": "stream",
          "name": "stdout",
          "text": [
            "Epoch 1/100\n",
            "938/938 [==============================] - 4s 4ms/step - loss: 0.3908 - accuracy: 0.8823\n",
            "Epoch 2/100\n",
            "938/938 [==============================] - 3s 3ms/step - loss: 0.3940 - accuracy: 0.8822\n",
            "Epoch 3/100\n",
            "938/938 [==============================] - 3s 3ms/step - loss: 0.3882 - accuracy: 0.8850\n",
            "Epoch 4/100\n",
            "938/938 [==============================] - 4s 4ms/step - loss: 0.3930 - accuracy: 0.8828\n",
            "Epoch 5/100\n",
            "938/938 [==============================] - 3s 3ms/step - loss: 0.3864 - accuracy: 0.8856\n",
            "Epoch 6/100\n",
            "938/938 [==============================] - 3s 3ms/step - loss: 0.3867 - accuracy: 0.8842\n",
            "Epoch 7/100\n",
            "938/938 [==============================] - 3s 3ms/step - loss: 0.3850 - accuracy: 0.8855\n",
            "Epoch 8/100\n",
            "938/938 [==============================] - 4s 4ms/step - loss: 0.3846 - accuracy: 0.8862\n",
            "Epoch 9/100\n",
            "938/938 [==============================] - 3s 3ms/step - loss: 0.3812 - accuracy: 0.8873\n",
            "Epoch 10/100\n",
            "938/938 [==============================] - 3s 3ms/step - loss: 0.3824 - accuracy: 0.8860\n",
            "Epoch 11/100\n",
            "938/938 [==============================] - 4s 4ms/step - loss: 0.3810 - accuracy: 0.8858\n",
            "Epoch 12/100\n",
            "938/938 [==============================] - 4s 4ms/step - loss: 0.3845 - accuracy: 0.8850\n",
            "Epoch 13/100\n",
            "938/938 [==============================] - 3s 3ms/step - loss: 0.3858 - accuracy: 0.8842\n",
            "Epoch 14/100\n",
            "938/938 [==============================] - 3s 3ms/step - loss: 0.3829 - accuracy: 0.8854\n",
            "Epoch 15/100\n",
            "938/938 [==============================] - 4s 4ms/step - loss: 0.3834 - accuracy: 0.8853\n",
            "Epoch 16/100\n",
            "938/938 [==============================] - 4s 4ms/step - loss: 0.3783 - accuracy: 0.8873\n",
            "Epoch 17/100\n",
            "938/938 [==============================] - 3s 3ms/step - loss: 0.3786 - accuracy: 0.8864\n",
            "Epoch 18/100\n",
            "938/938 [==============================] - 3s 3ms/step - loss: 0.3786 - accuracy: 0.8868\n",
            "Epoch 19/100\n",
            "938/938 [==============================] - 4s 4ms/step - loss: 0.3761 - accuracy: 0.8881\n",
            "Epoch 20/100\n",
            "938/938 [==============================] - 3s 3ms/step - loss: 0.3769 - accuracy: 0.8885\n",
            "Epoch 21/100\n",
            "938/938 [==============================] - 3s 3ms/step - loss: 0.3762 - accuracy: 0.8882\n",
            "Epoch 22/100\n",
            "938/938 [==============================] - 3s 3ms/step - loss: 0.3757 - accuracy: 0.8885\n",
            "Epoch 23/100\n",
            "938/938 [==============================] - 4s 5ms/step - loss: 0.3745 - accuracy: 0.8903\n",
            "Epoch 24/100\n",
            "938/938 [==============================] - 3s 3ms/step - loss: 0.3743 - accuracy: 0.8877\n",
            "Epoch 25/100\n",
            "938/938 [==============================] - 3s 3ms/step - loss: 0.3732 - accuracy: 0.8884\n",
            "Epoch 26/100\n",
            "938/938 [==============================] - 3s 4ms/step - loss: 0.3712 - accuracy: 0.8892\n",
            "Epoch 27/100\n",
            "938/938 [==============================] - 4s 4ms/step - loss: 0.3762 - accuracy: 0.8881\n",
            "Epoch 28/100\n",
            "938/938 [==============================] - 3s 3ms/step - loss: 0.3705 - accuracy: 0.8901\n",
            "Epoch 29/100\n",
            "938/938 [==============================] - 3s 3ms/step - loss: 0.3718 - accuracy: 0.8884\n",
            "Epoch 30/100\n",
            "938/938 [==============================] - 4s 4ms/step - loss: 0.3727 - accuracy: 0.8895\n",
            "Epoch 31/100\n",
            "938/938 [==============================] - 3s 4ms/step - loss: 0.3721 - accuracy: 0.8887\n",
            "Epoch 32/100\n",
            "938/938 [==============================] - 3s 3ms/step - loss: 0.3700 - accuracy: 0.8893\n",
            "Epoch 33/100\n",
            "938/938 [==============================] - 3s 3ms/step - loss: 0.3695 - accuracy: 0.8897\n",
            "Epoch 34/100\n",
            "938/938 [==============================] - 4s 4ms/step - loss: 0.3686 - accuracy: 0.8902\n",
            "Epoch 35/100\n",
            "938/938 [==============================] - 3s 3ms/step - loss: 0.3671 - accuracy: 0.8915\n",
            "Epoch 36/100\n",
            "938/938 [==============================] - 3s 3ms/step - loss: 0.3677 - accuracy: 0.8900\n",
            "Epoch 37/100\n",
            "938/938 [==============================] - 3s 3ms/step - loss: 0.3684 - accuracy: 0.8911\n",
            "Epoch 38/100\n",
            "938/938 [==============================] - 4s 4ms/step - loss: 0.3662 - accuracy: 0.8921\n",
            "Epoch 39/100\n",
            "938/938 [==============================] - 3s 3ms/step - loss: 0.3672 - accuracy: 0.8903\n",
            "Epoch 40/100\n",
            "938/938 [==============================] - 3s 3ms/step - loss: 0.3644 - accuracy: 0.8923\n",
            "Epoch 41/100\n",
            "938/938 [==============================] - 3s 3ms/step - loss: 0.3664 - accuracy: 0.8906\n",
            "Epoch 42/100\n",
            "938/938 [==============================] - 4s 4ms/step - loss: 0.3645 - accuracy: 0.8911\n",
            "Epoch 43/100\n",
            "938/938 [==============================] - 3s 3ms/step - loss: 0.3646 - accuracy: 0.8918\n",
            "Epoch 44/100\n",
            "938/938 [==============================] - 3s 3ms/step - loss: 0.3697 - accuracy: 0.8897\n",
            "Epoch 45/100\n",
            "938/938 [==============================] - 3s 4ms/step - loss: 0.3630 - accuracy: 0.8913\n",
            "Epoch 46/100\n",
            "938/938 [==============================] - 4s 4ms/step - loss: 0.3602 - accuracy: 0.8928\n",
            "Epoch 47/100\n",
            "938/938 [==============================] - 3s 3ms/step - loss: 0.3606 - accuracy: 0.8930\n",
            "Epoch 48/100\n",
            "938/938 [==============================] - 3s 3ms/step - loss: 0.3637 - accuracy: 0.8918\n",
            "Epoch 49/100\n",
            "938/938 [==============================] - 4s 4ms/step - loss: 0.3639 - accuracy: 0.8917\n",
            "Epoch 50/100\n",
            "938/938 [==============================] - 4s 4ms/step - loss: 0.3627 - accuracy: 0.8917\n",
            "Epoch 51/100\n",
            "938/938 [==============================] - 3s 3ms/step - loss: 0.3601 - accuracy: 0.8938\n",
            "Epoch 52/100\n",
            "938/938 [==============================] - 3s 3ms/step - loss: 0.3592 - accuracy: 0.8939\n",
            "Epoch 53/100\n",
            "938/938 [==============================] - 4s 4ms/step - loss: 0.3597 - accuracy: 0.8919\n",
            "Epoch 54/100\n",
            "938/938 [==============================] - 3s 4ms/step - loss: 0.3596 - accuracy: 0.8926\n",
            "Epoch 55/100\n",
            "938/938 [==============================] - 3s 3ms/step - loss: 0.3592 - accuracy: 0.8921\n",
            "Epoch 56/100\n",
            "938/938 [==============================] - 3s 3ms/step - loss: 0.3592 - accuracy: 0.8930\n",
            "Epoch 57/100\n",
            "938/938 [==============================] - 4s 4ms/step - loss: 0.3574 - accuracy: 0.8945\n",
            "Epoch 58/100\n",
            "938/938 [==============================] - 3s 3ms/step - loss: 0.3564 - accuracy: 0.8940\n",
            "Epoch 59/100\n",
            "938/938 [==============================] - 3s 3ms/step - loss: 0.3573 - accuracy: 0.8932\n",
            "Epoch 60/100\n",
            "938/938 [==============================] - 3s 3ms/step - loss: 0.3546 - accuracy: 0.8949\n",
            "Epoch 61/100\n",
            "938/938 [==============================] - 4s 4ms/step - loss: 0.3560 - accuracy: 0.8937\n",
            "Epoch 62/100\n",
            "938/938 [==============================] - 3s 3ms/step - loss: 0.3568 - accuracy: 0.8942\n",
            "Epoch 63/100\n",
            "938/938 [==============================] - 3s 3ms/step - loss: 0.3541 - accuracy: 0.8945\n",
            "Epoch 64/100\n",
            "938/938 [==============================] - 4s 4ms/step - loss: 0.3542 - accuracy: 0.8955\n",
            "Epoch 65/100\n",
            "938/938 [==============================] - 4s 4ms/step - loss: 0.3531 - accuracy: 0.8947\n",
            "Epoch 66/100\n",
            "938/938 [==============================] - 3s 3ms/step - loss: 0.3541 - accuracy: 0.8957\n",
            "Epoch 67/100\n",
            "938/938 [==============================] - 3s 3ms/step - loss: 0.3508 - accuracy: 0.8950\n",
            "Epoch 68/100\n",
            "938/938 [==============================] - 4s 4ms/step - loss: 0.3506 - accuracy: 0.8954\n",
            "Epoch 69/100\n",
            "938/938 [==============================] - 4s 4ms/step - loss: 0.3528 - accuracy: 0.8945\n",
            "Epoch 70/100\n",
            "938/938 [==============================] - 3s 3ms/step - loss: 0.3526 - accuracy: 0.8950\n",
            "Epoch 71/100\n",
            "938/938 [==============================] - 3s 3ms/step - loss: 0.3485 - accuracy: 0.8960\n",
            "Epoch 72/100\n",
            "938/938 [==============================] - 4s 4ms/step - loss: 0.3506 - accuracy: 0.8946\n",
            "Epoch 73/100\n",
            "938/938 [==============================] - 3s 3ms/step - loss: 0.3476 - accuracy: 0.8964\n",
            "Epoch 74/100\n",
            "938/938 [==============================] - 3s 3ms/step - loss: 0.3504 - accuracy: 0.8943\n",
            "Epoch 75/100\n",
            "938/938 [==============================] - 3s 3ms/step - loss: 0.3465 - accuracy: 0.8970\n",
            "Epoch 76/100\n",
            "938/938 [==============================] - 4s 4ms/step - loss: 0.3474 - accuracy: 0.8965\n",
            "Epoch 77/100\n",
            "938/938 [==============================] - 3s 3ms/step - loss: 0.3481 - accuracy: 0.8974\n",
            "Epoch 78/100\n",
            "938/938 [==============================] - 3s 3ms/step - loss: 0.3457 - accuracy: 0.8974\n",
            "Epoch 79/100\n",
            "938/938 [==============================] - 3s 3ms/step - loss: 0.3463 - accuracy: 0.8963\n",
            "Epoch 80/100\n",
            "938/938 [==============================] - 4s 4ms/step - loss: 0.3461 - accuracy: 0.8978\n",
            "Epoch 81/100\n",
            "938/938 [==============================] - 3s 3ms/step - loss: 0.3481 - accuracy: 0.8971\n",
            "Epoch 82/100\n",
            "938/938 [==============================] - 3s 3ms/step - loss: 0.3481 - accuracy: 0.8957\n",
            "Epoch 83/100\n",
            "938/938 [==============================] - 4s 4ms/step - loss: 0.3446 - accuracy: 0.8976\n",
            "Epoch 84/100\n",
            "938/938 [==============================] - 4s 4ms/step - loss: 0.3471 - accuracy: 0.8963\n",
            "Epoch 85/100\n",
            "938/938 [==============================] - 3s 3ms/step - loss: 0.3449 - accuracy: 0.8962\n",
            "Epoch 86/100\n",
            "938/938 [==============================] - 3s 4ms/step - loss: 0.3465 - accuracy: 0.8969\n",
            "Epoch 87/100\n",
            "938/938 [==============================] - 4s 4ms/step - loss: 0.3442 - accuracy: 0.8975\n",
            "Epoch 88/100\n",
            "938/938 [==============================] - 3s 4ms/step - loss: 0.3439 - accuracy: 0.8974\n",
            "Epoch 89/100\n",
            "938/938 [==============================] - 3s 3ms/step - loss: 0.3423 - accuracy: 0.8993\n",
            "Epoch 90/100\n",
            "938/938 [==============================] - 4s 4ms/step - loss: 0.3440 - accuracy: 0.8981\n",
            "Epoch 91/100\n",
            "938/938 [==============================] - 4s 5ms/step - loss: 0.3420 - accuracy: 0.8988\n",
            "Epoch 92/100\n",
            "938/938 [==============================] - 3s 3ms/step - loss: 0.3424 - accuracy: 0.8979\n",
            "Epoch 93/100\n",
            "938/938 [==============================] - 3s 4ms/step - loss: 0.3416 - accuracy: 0.8979\n",
            "Epoch 94/100\n",
            "938/938 [==============================] - 4s 4ms/step - loss: 0.3418 - accuracy: 0.8982\n",
            "Epoch 95/100\n",
            "938/938 [==============================] - 4s 4ms/step - loss: 0.3402 - accuracy: 0.8977\n",
            "Epoch 96/100\n",
            "938/938 [==============================] - 3s 4ms/step - loss: 0.3409 - accuracy: 0.8983\n",
            "Epoch 97/100\n",
            "938/938 [==============================] - 3s 4ms/step - loss: 0.3406 - accuracy: 0.8983\n",
            "Epoch 98/100\n",
            "938/938 [==============================] - 4s 5ms/step - loss: 0.3390 - accuracy: 0.8992\n",
            "Epoch 99/100\n",
            "938/938 [==============================] - 3s 3ms/step - loss: 0.3390 - accuracy: 0.8990\n",
            "Epoch 100/100\n",
            "938/938 [==============================] - 3s 3ms/step - loss: 0.3370 - accuracy: 0.8997\n"
          ]
        },
        {
          "output_type": "execute_result",
          "data": {
            "text/plain": [
              "<keras.callbacks.History at 0x7f3a4c9f9c60>"
            ]
          },
          "metadata": {},
          "execution_count": 14
        }
      ]
    },
    {
      "cell_type": "markdown",
      "source": [],
      "metadata": {
        "id": "vPPOSIq_hebJ"
      }
    },
    {
      "cell_type": "markdown",
      "source": [
        "Evaluating the model1"
      ],
      "metadata": {
        "id": "u10RC7K6hedA"
      }
    },
    {
      "cell_type": "code",
      "source": [
        "test_loss, test_acc = model.evaluate(test_images, test_labels)\n",
        "\n",
        "print('Test Accuracy: ', test_acc)"
      ],
      "metadata": {
        "colab": {
          "base_uri": "https://localhost:8080/"
        },
        "id": "E43OL4MahgPG",
        "outputId": "caee4d8f-89b9-44a0-ad0f-be1ad61574e8"
      },
      "execution_count": 15,
      "outputs": [
        {
          "output_type": "stream",
          "name": "stdout",
          "text": [
            "313/313 [==============================] - 1s 2ms/step - loss: 44.1710 - accuracy: 0.8503\n",
            "Test Accuracy:  0.8503000140190125\n"
          ]
        }
      ]
    },
    {
      "cell_type": "markdown",
      "source": [],
      "metadata": {
        "id": "NYibXcAklkUK"
      }
    },
    {
      "cell_type": "markdown",
      "source": [
        "Define the CNN model, model2"
      ],
      "metadata": {
        "id": "guhqAQxClkV1"
      }
    },
    {
      "cell_type": "code",
      "source": [
        "def build_cnn_model():\n",
        "  cnn_model = tf.keras.Sequential([\n",
        "\n",
        "      # first conv layer\n",
        "      tf.keras.layers.Conv2D(filters=24, kernel_size=(3,3), activation = tf.nn.relu),\n",
        "\n",
        "      # first pooling layer\n",
        "      tf.keras.layers.MaxPool2D(pool_size=(2,2)),\n",
        "\n",
        "      # second conv layer\n",
        "      tf.keras.layers.Conv2D(filters=36, kernel_size=(3,3), activation = tf.nn.relu),\n",
        "\n",
        "      # second pooling layer\n",
        "      tf.keras.layers.MaxPool2D(pool_size=(2,2)),\n",
        "\n",
        "      # flatter layer of fully conncected network\n",
        "      tf.keras.layers.Flatten(),\n",
        "\n",
        "      # first hidden layer\n",
        "      tf.keras.layers.Dense(units = 128, activation = tf.nn.relu),\n",
        "\n",
        "      # output layer\n",
        "      tf.keras.layers.Dense(units = 10, activation = tf.nn.softmax),\n",
        "\n",
        "  ])\n",
        "\n",
        "\n",
        "  return cnn_model;"
      ],
      "metadata": {
        "id": "GPebW5pdll7h"
      },
      "execution_count": 18,
      "outputs": []
    },
    {
      "cell_type": "markdown",
      "source": [],
      "metadata": {
        "id": "80wr5pasm8lK"
      }
    },
    {
      "cell_type": "code",
      "source": [
        " #building the model\n",
        "cnn_model = build_cnn_model()\n",
        "\n",
        "#initilaze the model by passing some data through\n",
        "cnn_model.predict(train_images[[0]])\n",
        "\n",
        "print(cnn_model.summary())\n"
      ],
      "metadata": {
        "colab": {
          "base_uri": "https://localhost:8080/"
        },
        "id": "N3CDs-c4m9K1",
        "outputId": "8adde1c5-1f48-4147-c7e6-b36cc73a3cb1"
      },
      "execution_count": 29,
      "outputs": [
        {
          "output_type": "stream",
          "name": "stdout",
          "text": [
            "1/1 [==============================] - 1s 742ms/step\n",
            "Model: \"sequential_4\"\n",
            "_________________________________________________________________\n",
            " Layer (type)                Output Shape              Param #   \n",
            "=================================================================\n",
            " conv2d_6 (Conv2D)           (None, 26, 26, 24)        240       \n",
            "                                                                 \n",
            " max_pooling2d_6 (MaxPooling  (None, 13, 13, 24)       0         \n",
            " 2D)                                                             \n",
            "                                                                 \n",
            " conv2d_7 (Conv2D)           (None, 11, 11, 36)        7812      \n",
            "                                                                 \n",
            " max_pooling2d_7 (MaxPooling  (None, 5, 5, 36)         0         \n",
            " 2D)                                                             \n",
            "                                                                 \n",
            " flatten_4 (Flatten)         (None, 900)               0         \n",
            "                                                                 \n",
            " dense_8 (Dense)             (None, 128)               115328    \n",
            "                                                                 \n",
            " dense_9 (Dense)             (None, 10)                1290      \n",
            "                                                                 \n",
            "=================================================================\n",
            "Total params: 124,670\n",
            "Trainable params: 124,670\n",
            "Non-trainable params: 0\n",
            "_________________________________________________________________\n",
            "None\n"
          ]
        }
      ]
    },
    {
      "cell_type": "markdown",
      "source": [
        "Train the Cnn model"
      ],
      "metadata": {
        "id": "crQ4lRRrqEPS"
      }
    },
    {
      "cell_type": "code",
      "source": [
        "#compiling it\n",
        "cnn_model.compile(optimizer=tf.keras.optimizers.Adam(learning_rate=1e-3),\n",
        "                  loss = 'sparse_categorical_crossentropy',\n",
        "                  metrics = ['accuracy'])\n",
        "\n"
      ],
      "metadata": {
        "colab": {
          "base_uri": "https://localhost:8080/"
        },
        "id": "-S8_0jrrqFbr",
        "outputId": "a48e3eae-a116-4469-8a2a-f41b55c8b80e"
      },
      "execution_count": 30,
      "outputs": [
        {
          "output_type": "stream",
          "name": "stderr",
          "text": [
            "/usr/local/lib/python3.10/dist-packages/ipykernel/ipkernel.py:283: DeprecationWarning: `should_run_async` will not call `transform_cell` automatically in the future. Please pass the result to `transformed_cell` argument and any exception that happen during thetransform in `preprocessing_exc_tuple` in IPython 7.17 and above.\n",
            "  and should_run_async(code)\n"
          ]
        }
      ]
    },
    {
      "cell_type": "code",
      "source": [
        "# training it\n",
        "cnn_model.fit(x=train_images, y=train_labels, batch_size = 64, epochs = 5)"
      ],
      "metadata": {
        "colab": {
          "base_uri": "https://localhost:8080/"
        },
        "id": "uv8oAFyCqZ3C",
        "outputId": "e516b5bd-78fd-4dbd-8870-adcc0385615c"
      },
      "execution_count": 31,
      "outputs": [
        {
          "output_type": "stream",
          "name": "stdout",
          "text": [
            "Epoch 1/5\n"
          ]
        },
        {
          "output_type": "stream",
          "name": "stderr",
          "text": [
            "/usr/local/lib/python3.10/dist-packages/ipykernel/ipkernel.py:283: DeprecationWarning: `should_run_async` will not call `transform_cell` automatically in the future. Please pass the result to `transformed_cell` argument and any exception that happen during thetransform in `preprocessing_exc_tuple` in IPython 7.17 and above.\n",
            "  and should_run_async(code)\n"
          ]
        },
        {
          "output_type": "stream",
          "name": "stdout",
          "text": [
            "938/938 [==============================] - 52s 54ms/step - loss: 0.1778 - accuracy: 0.9473\n",
            "Epoch 2/5\n",
            "938/938 [==============================] - 44s 47ms/step - loss: 0.0530 - accuracy: 0.9837\n",
            "Epoch 3/5\n",
            "938/938 [==============================] - 43s 46ms/step - loss: 0.0379 - accuracy: 0.9883\n",
            "Epoch 4/5\n",
            "938/938 [==============================] - 42s 45ms/step - loss: 0.0288 - accuracy: 0.9908\n",
            "Epoch 5/5\n",
            "938/938 [==============================] - 43s 46ms/step - loss: 0.0224 - accuracy: 0.9929\n"
          ]
        },
        {
          "output_type": "execute_result",
          "data": {
            "text/plain": [
              "<keras.callbacks.History at 0x7f3a4c988a90>"
            ]
          },
          "metadata": {},
          "execution_count": 31
        }
      ]
    },
    {
      "cell_type": "markdown",
      "source": [],
      "metadata": {
        "id": "_G4HWVL7qtnZ"
      }
    },
    {
      "cell_type": "markdown",
      "source": [
        "Make predictions"
      ],
      "metadata": {
        "id": "T3rAzSWWqtp_"
      }
    },
    {
      "cell_type": "code",
      "source": [
        "predictions = cnn_model.predict(test_images)"
      ],
      "metadata": {
        "colab": {
          "base_uri": "https://localhost:8080/"
        },
        "id": "uFpqo-5FqvaP",
        "outputId": "655b4c98-045a-4ac7-ef64-654ea00197dd"
      },
      "execution_count": 32,
      "outputs": [
        {
          "output_type": "stream",
          "name": "stdout",
          "text": [
            "313/313 [==============================] - 4s 11ms/step\n"
          ]
        }
      ]
    },
    {
      "cell_type": "code",
      "source": [
        "predictions[0]"
      ],
      "metadata": {
        "colab": {
          "base_uri": "https://localhost:8080/"
        },
        "id": "Y3JS1QAHqz1y",
        "outputId": "52dd4ad4-015c-45bb-e39a-fac4281e7c77"
      },
      "execution_count": 33,
      "outputs": [
        {
          "output_type": "execute_result",
          "data": {
            "text/plain": [
              "array([5.93748384e-09, 1.78508071e-08, 2.96628684e-07, 1.80457590e-07,\n",
              "       7.08961917e-11, 1.71611181e-09, 1.40614415e-14, 9.99998033e-01,\n",
              "       1.04734532e-08, 1.25124723e-06], dtype=float32)"
            ]
          },
          "metadata": {},
          "execution_count": 33
        }
      ]
    },
    {
      "cell_type": "code",
      "source": [
        "predicted_img0 = np.argmax(predictions[0])\n",
        "\n",
        "print(predicted_img0)\n",
        "\n",
        "\n",
        "\n",
        "plt.imshow(test_images[0,:,:,0], cmap = plt.cm.binary)"
      ],
      "metadata": {
        "colab": {
          "base_uri": "https://localhost:8080/",
          "height": 519
        },
        "id": "uKIuu0H4rhzn",
        "outputId": "8e53902f-e627-482d-cf2b-c830797c87dc"
      },
      "execution_count": 37,
      "outputs": [
        {
          "output_type": "stream",
          "name": "stdout",
          "text": [
            "7\n"
          ]
        },
        {
          "output_type": "stream",
          "name": "stderr",
          "text": [
            "/usr/local/lib/python3.10/dist-packages/ipykernel/ipkernel.py:283: DeprecationWarning: `should_run_async` will not call `transform_cell` automatically in the future. Please pass the result to `transformed_cell` argument and any exception that happen during thetransform in `preprocessing_exc_tuple` in IPython 7.17 and above.\n",
            "  and should_run_async(code)\n"
          ]
        },
        {
          "output_type": "execute_result",
          "data": {
            "text/plain": [
              "<matplotlib.image.AxesImage at 0x7f3a4db7a4a0>"
            ]
          },
          "metadata": {},
          "execution_count": 37
        },
        {
          "output_type": "display_data",
          "data": {
            "text/plain": [
              "<Figure size 640x480 with 1 Axes>"
            ],
            "image/png": "[encoded data removed]"
          },
          "metadata": {}
        }
      ]
    },
    {
      "cell_type": "markdown",
      "source": [
        "Visualizer"
      ],
      "metadata": {
        "id": "7FymU9nmr5r9"
      }
    },
    {
      "cell_type": "code",
      "source": [
        "#@title Change the slider to look at the model's predictions! { run: \"auto\" }\n",
        "\n",
        "image_index = 16 #@param {type:\"slider\", min:0, max:100, step:1}\n",
        "plt.subplot(1,2,1)\n",
        "mdl.lab2.plot_image_prediction(image_index, predictions, test_labels, test_images)\n",
        "plt.subplot(1,2,2)\n",
        "mdl.lab2.plot_value_prediction(image_index, predictions, test_labels)"
      ],
      "metadata": {
        "colab": {
          "base_uri": "https://localhost:8080/",
          "height": 406
        },
        "id": "lVPCmUsbr7hY",
        "outputId": "28243889-7ef6-4c70-f661-5a45ee7791f2"
      },
      "execution_count": 58,
      "outputs": [
        {
          "output_type": "display_data",
          "data": {
            "text/plain": [
              "<Figure size 640x480 with 2 Axes>"
            ],
            "image/png": "[encoded data removed]"
          },
          "metadata": {}
        }
      ]
    },
    {
      "cell_type": "code",
      "source": [
        "# Plots the first X test images, their predicted label, and the true label\n",
        "# Color correct predictions in blue, incorrect predictions in red\n",
        "num_rows = 5\n",
        "num_cols = 4\n",
        "num_images = num_rows*num_cols\n",
        "plt.figure(figsize=(2*2*num_cols, 2*num_rows))\n",
        "for i in range(num_images):\n",
        "  plt.subplot(num_rows, 2*num_cols, 2*i+1)\n",
        "  mdl.lab2.plot_image_prediction(i, predictions, test_labels, test_images)\n",
        "  plt.subplot(num_rows, 2*num_cols, 2*i+2)\n",
        "  mdl.lab2.plot_value_prediction(i, predictions, test_labels)"
      ],
      "metadata": {
        "colab": {
          "base_uri": "https://localhost:8080/",
          "height": 431
        },
        "id": "hvU0NMr7r4jy",
        "outputId": "3bc44870-c17f-4d75-cb3c-9336f6b11787"
      },
      "execution_count": 46,
      "outputs": [
        {
          "output_type": "display_data",
          "data": {
            "text/plain": [
              "<Figure size 1600x1000 with 40 Axes>"
            ],
            "image/png": "[encoded data removed]"
          },
          "metadata": {}
        }
      ]
    }
  ]
}